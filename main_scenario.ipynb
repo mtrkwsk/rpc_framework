{
 "cells": [
  {
   "cell_type": "code",
   "execution_count": 1,
   "id": "c9ed1e7b-c93a-494b-8408-6b7f270496cc",
   "metadata": {},
   "outputs": [],
   "source": [
    "from pwt.pwtApi import PwtApi"
   ]
  },
  {
   "cell_type": "code",
   "execution_count": 2,
   "id": "ad539b16-773f-4821-b171-2ee3b736e8ae",
   "metadata": {},
   "outputs": [
    {
     "name": "stdout",
     "output_type": "stream",
     "text": [
      "Connected to MQTT on rabbitmq_pwt\n"
     ]
    }
   ],
   "source": [
    "pwt = PwtApi(hostname='rabbitmq_pwt')"
   ]
  },
  {
   "cell_type": "code",
   "execution_count": 3,
   "id": "fc11ce21-8f17-46a0-8a4c-1df22dbd2a8c",
   "metadata": {},
   "outputs": [
    {
     "name": "stdout",
     "output_type": "stream",
     "text": [
      "{'component1': ComponentProxy(component1)}\n",
      "Updating component component1 proxy...\n",
      "component1 component proxy info updated from remote api_info call.\n"
     ]
    }
   ],
   "source": [
    "pwt.discover_components()"
   ]
  },
  {
   "cell_type": "code",
   "execution_count": 12,
   "id": "8d29eafd-8ab3-4008-9a84-4e8de77328b5",
   "metadata": {},
   "outputs": [],
   "source": [
    "c = pwt.get_component_by_name(\"component1\")"
   ]
  },
  {
   "cell_type": "code",
   "execution_count": 13,
   "id": "893ff68e-ed16-40f0-acc9-16055b8cb5fb",
   "metadata": {},
   "outputs": [
    {
     "name": "stdout",
     "output_type": "stream",
     "text": [
      "Updating component component1 proxy...\n",
      "component1 component proxy info updated from remote api_info call.\n",
      "Component: component1 :\n",
      "  PwtComponent (RUNNING)\n",
      "   IP: 172.18.0.4\n",
      "\t... (truncated)\n",
      "  CommDriver (RUNNING)\n",
      "\t... (truncated)\n"
     ]
    }
   ],
   "source": [
    "c.info()"
   ]
  },
  {
   "cell_type": "code",
   "execution_count": 15,
   "id": "a1ba753f-612c-4120-b159-7c160a6d6f09",
   "metadata": {},
   "outputs": [
    {
     "name": "stdout",
     "output_type": "stream",
     "text": [
      "component1 \u001b[31m INFO \u001b[0m : Registering TestDriver with args {} autostart is True\n",
      "component1 \u001b[31m INFO \u001b[0m : Running TestDriver process... PID: 143\n",
      "component1 component proxy info updated from remote api_info call.\n"
     ]
    }
   ],
   "source": [
    "c.register_driver(driver_name=\"TestDriver\")"
   ]
  },
  {
   "cell_type": "code",
   "execution_count": 16,
   "id": "0ff8d71c-efdd-43d3-a233-96dc4984c5f7",
   "metadata": {},
   "outputs": [],
   "source": [
    "c.multiply(number=2.2)"
   ]
  },
  {
   "cell_type": "code",
   "execution_count": 17,
   "id": "462378d0-acb9-4735-8ec6-c4d7182cb68d",
   "metadata": {},
   "outputs": [
    {
     "data": {
      "text/plain": [
       "[{'driver': 'TestDriver',\n",
       "  'measurement': 'multiplier_result',\n",
       "  'value': 4.4,\n",
       "  'timestamp': 1650796534.420452,\n",
       "  'component_id': 'component1',\n",
       "  'dtype': \"<class 'float'>\",\n",
       "  'range': [0, 50],\n",
       "  'active': True,\n",
       "  'label': 'multiplier result'}]"
      ]
     },
     "execution_count": 17,
     "metadata": {},
     "output_type": "execute_result"
    }
   ],
   "source": [
    "c.get_measurements()"
   ]
  },
  {
   "cell_type": "code",
   "execution_count": 18,
   "id": "1455ff51-65ab-4ab7-a377-312d9d435f8e",
   "metadata": {},
   "outputs": [
    {
     "data": {
      "text/plain": [
       "{'multiplier': {'dtype': \"<class 'float'>\", 'range': [0, 1000], 'value': 2},\n",
       " 'param2': {'dtype': \"<class 'float'>\", 'range': [0.2, 1.0], 'value': 0.5}}"
      ]
     },
     "execution_count": 18,
     "metadata": {},
     "output_type": "execute_result"
    }
   ],
   "source": [
    "c.parameters"
   ]
  },
  {
   "cell_type": "code",
   "execution_count": 19,
   "id": "fe1c87ff-8cee-4c4f-a005-a0b7d2a3b32a",
   "metadata": {},
   "outputs": [
    {
     "data": {
      "application/vnd.jupyter.widget-view+json": {
       "model_id": "903ce80320c549ec8ebb6397d7ab2ef6",
       "version_major": 2,
       "version_minor": 0
      },
      "text/plain": [
       "interactive(children=(FloatSlider(value=2.0, continuous_update=False, description='x', max=1000.0, step=0.01),…"
      ]
     },
     "metadata": {},
     "output_type": "display_data"
    },
    {
     "name": "stdout",
     "output_type": "stream",
     "text": [
      "component1 \u001b[31m INFO \u001b[0m : Setting param multiplier to 2.0.\n"
     ]
    }
   ],
   "source": [
    "c.parameter_slider(name=\"multiplier\")"
   ]
  },
  {
   "cell_type": "code",
   "execution_count": 29,
   "id": "f1ca8716-e10d-4739-9c64-ee2af603e4fe",
   "metadata": {},
   "outputs": [],
   "source": [
    "c.multiply(number=3.2)"
   ]
  },
  {
   "cell_type": "code",
   "execution_count": 21,
   "id": "63b7f0bb-5d33-4409-abde-bd323d1a7ad7",
   "metadata": {},
   "outputs": [
    {
     "data": {
      "text/plain": [
       "{'driver': 'TestDriver',\n",
       " 'measurement': 'multiplier_result',\n",
       " 'value': 312.862,\n",
       " 'timestamp': 1650796594.2198694,\n",
       " 'component_id': 'component1',\n",
       " 'dtype': \"<class 'float'>\",\n",
       " 'range': [0, 50],\n",
       " 'active': True,\n",
       " 'label': 'multiplier result'}"
      ]
     },
     "execution_count": 21,
     "metadata": {},
     "output_type": "execute_result"
    }
   ],
   "source": [
    "c.get_measurements()[-1]"
   ]
  },
  {
   "cell_type": "code",
   "execution_count": 23,
   "id": "63cd99da-df04-4f0e-88c0-17c0c3dfe206",
   "metadata": {},
   "outputs": [],
   "source": [
    "c.get_state()"
   ]
  },
  {
   "cell_type": "code",
   "execution_count": 24,
   "id": "b75ab6ac-e0cf-4e8e-a565-7d82439b0757",
   "metadata": {},
   "outputs": [
    {
     "data": {
      "text/plain": [
       "{'PwtComponent': {'dstate': 'RUNNING',\n",
       "  'ip_addr': '172.18.0.4',\n",
       "  'time_offset': 0,\n",
       "  'comm_hostname': 'rabbitmq_pwt'},\n",
       " 'CommDriver': {'dstate': 'RUNNING',\n",
       "  'measurements': {},\n",
       "  'parameters_info': {},\n",
       "  'endpoints': {}},\n",
       " 'TestDriver': {'dstate': 'RUNNING',\n",
       "  'multiplier': 142.21,\n",
       "  'param2': 0.5,\n",
       "  'parity_counter': 0,\n",
       "  'measurements': {'multiplier_result': {'dtype': \"<class 'float'>\",\n",
       "    'range': [0, 50],\n",
       "    'active': True,\n",
       "    'label': 'multiplier result'},\n",
       "   'parity': {'dtype': \"<class 'bool'>\",\n",
       "    'range': None,\n",
       "    'active': True,\n",
       "    'label': 'meas parity'}},\n",
       "  'parameters_info': {'multiplier': {'dtype': \"<class 'float'>\",\n",
       "    'range': [0, 1000],\n",
       "    'value': 142.21},\n",
       "   'param2': {'dtype': \"<class 'float'>\", 'range': [0.2, 1.0], 'value': 0.5}},\n",
       "  'endpoints': {}}}"
      ]
     },
     "execution_count": 24,
     "metadata": {},
     "output_type": "execute_result"
    }
   ],
   "source": [
    "c.state"
   ]
  },
  {
   "cell_type": "code",
   "execution_count": 25,
   "id": "bbcebb96-06c6-40e3-a47a-0c5fe1cef8ca",
   "metadata": {},
   "outputs": [],
   "source": [
    "from pwt.tools.plot_measurements import plot_measurements"
   ]
  },
  {
   "cell_type": "code",
   "execution_count": 34,
   "id": "86f23b69-26f8-4665-9878-362a90ce46a5",
   "metadata": {},
   "outputs": [
    {
     "name": "stdout",
     "output_type": "stream",
     "text": [
      "['multiplier_result'] ['component1']\n"
     ]
    },
    {
     "data": {
      "image/png": "[encoded data removed]",
      "text/plain": [
       "<Figure size 1080x288 with 2 Axes>"
      ]
     },
     "metadata": {
      "needs_background": "light"
     },
     "output_type": "display_data"
    }
   ],
   "source": [
    "plot_measurements(c, 'multiplier_result') ;"
   ]
  },
  {
   "cell_type": "code",
   "execution_count": 33,
   "id": "c48265dc-fa67-4f2e-b84c-85f9f6afba69",
   "metadata": {},
   "outputs": [
    {
     "name": "stdout",
     "output_type": "stream",
     "text": [
      "['multiplier'] ['component1']\n"
     ]
    },
    {
     "data": {
      "image/png": "[encoded data removed]",
      "text/plain": [
       "<Figure size 1080x288 with 2 Axes>"
      ]
     },
     "metadata": {
      "needs_background": "light"
     },
     "output_type": "display_data"
    }
   ],
   "source": [
    "plot_measurements(c, 'multiplier') ;"
   ]
  },
  {
   "cell_type": "code",
   "execution_count": null,
   "id": "8564285e-ea6c-4cd2-9ee2-53ced9766e9d",
   "metadata": {},
   "outputs": [],
   "source": []
  }
 ],
 "metadata": {
  "kernelspec": {
   "display_name": "Python 3 (ipykernel)",
   "language": "python",
   "name": "python3"
  },
  "language_info": {
   "codemirror_mode": {
    "name": "ipython",
    "version": 3
   },
   "file_extension": ".py",
   "mimetype": "text/x-python",
   "name": "python",
   "nbconvert_exporter": "python",
   "pygments_lexer": "ipython3",
   "version": "3.9.10"
  }
 },
 "nbformat": 4,
 "nbformat_minor": 5
}
