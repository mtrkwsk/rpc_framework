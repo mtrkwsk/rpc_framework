{
 "cells": [
  {
   "cell_type": "code",
   "execution_count": null,
   "id": "c9ed1e7b-c93a-494b-8408-6b7f270496cc",
   "metadata": {},
   "outputs": [],
   "source": [
    "from pwt.pwtApi import PwtApi"
   ]
  },
  {
   "cell_type": "code",
   "execution_count": null,
   "id": "ad539b16-773f-4821-b171-2ee3b736e8ae",
   "metadata": {},
   "outputs": [],
   "source": [
    "pwt = PwtApi(hostname='rabbitmq_pwt')"
   ]
  },
  {
   "cell_type": "code",
   "execution_count": null,
   "id": "fc11ce21-8f17-46a0-8a4c-1df22dbd2a8c",
   "metadata": {},
   "outputs": [],
   "source": [
    "pwt.discover_components()"
   ]
  },
  {
   "cell_type": "code",
   "execution_count": null,
   "id": "8d29eafd-8ab3-4008-9a84-4e8de77328b5",
   "metadata": {},
   "outputs": [],
   "source": [
    "c = pwt.get_component_by_name(\"component1\")"
   ]
  },
  {
   "cell_type": "code",
   "execution_count": null,
   "id": "893ff68e-ed16-40f0-acc9-16055b8cb5fb",
   "metadata": {},
   "outputs": [],
   "source": [
    "c.info()"
   ]
  },
  {
   "cell_type": "code",
   "execution_count": null,
   "id": "a1ba753f-612c-4120-b159-7c160a6d6f09",
   "metadata": {},
   "outputs": [],
   "source": [
    "c.register_driver(driver_name=\"TestDriver\")"
   ]
  },
  {
   "cell_type": "code",
   "execution_count": null,
   "id": "0ff8d71c-efdd-43d3-a233-96dc4984c5f7",
   "metadata": {},
   "outputs": [],
   "source": [
    "c.multiply(number=2.2)"
   ]
  },
  {
   "cell_type": "code",
   "execution_count": null,
   "id": "462378d0-acb9-4735-8ec6-c4d7182cb68d",
   "metadata": {},
   "outputs": [],
   "source": [
    "c.get_measurements()"
   ]
  },
  {
   "cell_type": "code",
   "execution_count": null,
   "id": "1455ff51-65ab-4ab7-a377-312d9d435f8e",
   "metadata": {},
   "outputs": [],
   "source": [
    "c.parameters"
   ]
  },
  {
   "cell_type": "code",
   "execution_count": null,
   "id": "fe1c87ff-8cee-4c4f-a005-a0b7d2a3b32a",
   "metadata": {},
   "outputs": [],
   "source": [
    "c.parameter_slider(name=\"multiplier\")"
   ]
  },
  {
   "cell_type": "code",
   "execution_count": null,
   "id": "f1ca8716-e10d-4739-9c64-ee2af603e4fe",
   "metadata": {},
   "outputs": [],
   "source": [
    "c.multiply(number=3.2)"
   ]
  },
  {
   "cell_type": "code",
   "execution_count": null,
   "id": "63b7f0bb-5d33-4409-abde-bd323d1a7ad7",
   "metadata": {},
   "outputs": [],
   "source": [
    "c.get_measurements()[-1]"
   ]
  },
  {
   "cell_type": "code",
   "execution_count": null,
   "id": "63cd99da-df04-4f0e-88c0-17c0c3dfe206",
   "metadata": {},
   "outputs": [],
   "source": [
    "c.get_state()"
   ]
  },
  {
   "cell_type": "code",
   "execution_count": null,
   "id": "b75ab6ac-e0cf-4e8e-a565-7d82439b0757",
   "metadata": {},
   "outputs": [],
   "source": [
    "c.state"
   ]
  },
  {
   "cell_type": "code",
   "execution_count": null,
   "id": "bbcebb96-06c6-40e3-a47a-0c5fe1cef8ca",
   "metadata": {},
   "outputs": [],
   "source": [
    "from pwt.tools.plot_measurements import plot_measurements"
   ]
  },
  {
   "cell_type": "code",
   "execution_count": null,
   "id": "86f23b69-26f8-4665-9878-362a90ce46a5",
   "metadata": {},
   "outputs": [],
   "source": [
    "plot_measurements(c, 'multiplier_result') ;"
   ]
  },
  {
   "cell_type": "code",
   "execution_count": null,
   "id": "c48265dc-fa67-4f2e-b84c-85f9f6afba69",
   "metadata": {},
   "outputs": [],
   "source": [
    "plot_measurements(c, 'multiplier') ;"
   ]
  },
  {
   "cell_type": "code",
   "execution_count": null,
   "id": "8564285e-ea6c-4cd2-9ee2-53ced9766e9d",
   "metadata": {},
   "outputs": [],
   "source": []
  }
 ],
 "metadata": {
  "kernelspec": {
   "display_name": "Python 3 (ipykernel)",
   "language": "python",
   "name": "python3"
  },
  "language_info": {
   "codemirror_mode": {
    "name": "ipython",
    "version": 3
   },
   "file_extension": ".py",
   "mimetype": "text/x-python",
   "name": "python",
   "nbconvert_exporter": "python",
   "pygments_lexer": "ipython3",
   "version": "3.9.10"
  }
 },
 "nbformat": 4,
 "nbformat_minor": 5
}
